{
  "nbformat": 4,
  "nbformat_minor": 0,
  "metadata": {
    "colab": {
      "name": "Simple Linear Regression Practice.ipynb",
      "provenance": [],
      "collapsed_sections": [],
      "authorship_tag": "ABX9TyNa0lTiySk1xnl57b/Nz1uu",
      "include_colab_link": true
    },
    "kernelspec": {
      "name": "python3",
      "display_name": "Python 3"
    }
  },
  "cells": [
    {
      "cell_type": "markdown",
      "metadata": {
        "id": "view-in-github",
        "colab_type": "text"
      },
      "source": [
        "<a href=\"https://colab.research.google.com/github/Shivani-781/Machine-Learning-and-its-Applications/blob/master/Simple_Linear_Regression_Practice.ipynb\" target=\"_parent\"><img src=\"https://colab.research.google.com/assets/colab-badge.svg\" alt=\"Open In Colab\"/></a>"
      ]
    },
    {
      "cell_type": "markdown",
      "metadata": {
        "id": "0op7RwlWzm5b",
        "colab_type": "text"
      },
      "source": [
        "**<h2>Simple Linear Regression Practice - Death Rate data</h2>**"
      ]
    },
    {
      "cell_type": "markdown",
      "metadata": {
        "id": "feuGF4b0z-iu",
        "colab_type": "text"
      },
      "source": [
        "Importing libraries"
      ]
    },
    {
      "cell_type": "code",
      "metadata": {
        "id": "2nZdfcxdz1LM",
        "colab_type": "code",
        "colab": {}
      },
      "source": [
        "import numpy as np\n",
        "import pandas as pd\n",
        "import matplotlib.pyplot as plt\n",
        "%matplotlib inline"
      ],
      "execution_count": 8,
      "outputs": []
    },
    {
      "cell_type": "markdown",
      "metadata": {
        "id": "yHk5laGx0MP-",
        "colab_type": "text"
      },
      "source": [
        "Reading .csv file"
      ]
    },
    {
      "cell_type": "code",
      "metadata": {
        "id": "xCc1wJx90Baj",
        "colab_type": "code",
        "colab": {
          "base_uri": "https://localhost:8080/",
          "height": 305
        },
        "outputId": "c4ed6269-94bc-483f-8832-71ce3214f5cc"
      },
      "source": [
        "df = pd.read_csv('share.csv')\n",
        "df.head()"
      ],
      "execution_count": 9,
      "outputs": [
        {
          "output_type": "execute_result",
          "data": {
            "text/html": [
              "<div>\n",
              "<style scoped>\n",
              "    .dataframe tbody tr th:only-of-type {\n",
              "        vertical-align: middle;\n",
              "    }\n",
              "\n",
              "    .dataframe tbody tr th {\n",
              "        vertical-align: top;\n",
              "    }\n",
              "\n",
              "    .dataframe thead th {\n",
              "        text-align: right;\n",
              "    }\n",
              "</style>\n",
              "<table border=\"1\" class=\"dataframe\">\n",
              "  <thead>\n",
              "    <tr style=\"text-align: right;\">\n",
              "      <th></th>\n",
              "      <th>County</th>\n",
              "      <th>FIPS</th>\n",
              "      <th>Met Objective of 45.5? (1)</th>\n",
              "      <th>Age-Adjusted Death Rate</th>\n",
              "      <th>Lower 95% Confidence Interval for Death Rate</th>\n",
              "      <th>Upper 95% Confidence Interval for Death Rate</th>\n",
              "      <th>Average Deaths per Year</th>\n",
              "      <th>Recent Trend (2)</th>\n",
              "      <th>Recent 5-Year Trend (2) in Death Rates</th>\n",
              "      <th>Lower 95% Confidence Interval for Trend</th>\n",
              "      <th>Upper 95% Confidence Interval for Trend</th>\n",
              "    </tr>\n",
              "  </thead>\n",
              "  <tbody>\n",
              "    <tr>\n",
              "      <th>0</th>\n",
              "      <td>United States</td>\n",
              "      <td>0</td>\n",
              "      <td>No</td>\n",
              "      <td>46</td>\n",
              "      <td>45.9</td>\n",
              "      <td>46.1</td>\n",
              "      <td>1,57,376</td>\n",
              "      <td>falling</td>\n",
              "      <td>-2.4</td>\n",
              "      <td>-2.6</td>\n",
              "      <td>-2.2</td>\n",
              "    </tr>\n",
              "    <tr>\n",
              "      <th>1</th>\n",
              "      <td>Perry County, Kentucky</td>\n",
              "      <td>21193</td>\n",
              "      <td>No</td>\n",
              "      <td>125.6</td>\n",
              "      <td>108.9</td>\n",
              "      <td>144.2</td>\n",
              "      <td>43</td>\n",
              "      <td>stable</td>\n",
              "      <td>-0.6</td>\n",
              "      <td>-2.7</td>\n",
              "      <td>1.6</td>\n",
              "    </tr>\n",
              "    <tr>\n",
              "      <th>2</th>\n",
              "      <td>Powell County, Kentucky</td>\n",
              "      <td>21197</td>\n",
              "      <td>No</td>\n",
              "      <td>125.3</td>\n",
              "      <td>100.2</td>\n",
              "      <td>155.1</td>\n",
              "      <td>18</td>\n",
              "      <td>stable</td>\n",
              "      <td>1.7</td>\n",
              "      <td>0</td>\n",
              "      <td>3.4</td>\n",
              "    </tr>\n",
              "    <tr>\n",
              "      <th>3</th>\n",
              "      <td>North Slope Borough, Alaska</td>\n",
              "      <td>2185</td>\n",
              "      <td>No</td>\n",
              "      <td>124.9</td>\n",
              "      <td>73</td>\n",
              "      <td>194.7</td>\n",
              "      <td>5</td>\n",
              "      <td>**</td>\n",
              "      <td>**</td>\n",
              "      <td>**</td>\n",
              "      <td>**</td>\n",
              "    </tr>\n",
              "    <tr>\n",
              "      <th>4</th>\n",
              "      <td>Owsley County, Kentucky</td>\n",
              "      <td>21189</td>\n",
              "      <td>No</td>\n",
              "      <td>118.5</td>\n",
              "      <td>83.1</td>\n",
              "      <td>165.5</td>\n",
              "      <td>8</td>\n",
              "      <td>stable</td>\n",
              "      <td>2.2</td>\n",
              "      <td>-0.4</td>\n",
              "      <td>4.8</td>\n",
              "    </tr>\n",
              "  </tbody>\n",
              "</table>\n",
              "</div>"
            ],
            "text/plain": [
              "                        County  ...  Upper 95% Confidence Interval for Trend\n",
              "0                United States  ...                                     -2.2\n",
              "1       Perry County, Kentucky  ...                                      1.6\n",
              "2      Powell County, Kentucky  ...                                      3.4\n",
              "3  North Slope Borough, Alaska  ...                                       **\n",
              "4      Owsley County, Kentucky  ...                                      4.8\n",
              "\n",
              "[5 rows x 11 columns]"
            ]
          },
          "metadata": {
            "tags": []
          },
          "execution_count": 9
        }
      ]
    },
    {
      "cell_type": "code",
      "metadata": {
        "id": "Kf8ffWTF0TYA",
        "colab_type": "code",
        "colab": {
          "base_uri": "https://localhost:8080/",
          "height": 33
        },
        "outputId": "63e5584e-b219-426b-8b72-018be9a06e7d"
      },
      "source": [
        "df.shape"
      ],
      "execution_count": 10,
      "outputs": [
        {
          "output_type": "execute_result",
          "data": {
            "text/plain": [
              "(3141, 11)"
            ]
          },
          "metadata": {
            "tags": []
          },
          "execution_count": 10
        }
      ]
    },
    {
      "cell_type": "code",
      "metadata": {
        "id": "kFm2qYIL1AGo",
        "colab_type": "code",
        "colab": {
          "base_uri": "https://localhost:8080/",
          "height": 310
        },
        "outputId": "55723800-784e-47c5-c3c3-b1ae6b3bcbca"
      },
      "source": [
        "df.info()"
      ],
      "execution_count": 11,
      "outputs": [
        {
          "output_type": "stream",
          "text": [
            "<class 'pandas.core.frame.DataFrame'>\n",
            "RangeIndex: 3141 entries, 0 to 3140\n",
            "Data columns (total 11 columns):\n",
            " #   Column                                        Non-Null Count  Dtype \n",
            "---  ------                                        --------------  ----- \n",
            " 0   County                                        3141 non-null   object\n",
            " 1   FIPS                                          3141 non-null   int64 \n",
            " 2   Met Objective of 45.5? (1)                    3141 non-null   object\n",
            " 3   Age-Adjusted Death Rate                       3141 non-null   object\n",
            " 4   Lower 95% Confidence Interval for Death Rate  3141 non-null   object\n",
            " 5   Upper 95% Confidence Interval for Death Rate  3141 non-null   object\n",
            " 6   Average Deaths per Year                       3141 non-null   object\n",
            " 7   Recent Trend (2)                              3141 non-null   object\n",
            " 8   Recent 5-Year Trend (2) in Death Rates        3141 non-null   object\n",
            " 9   Lower 95% Confidence Interval for Trend       3141 non-null   object\n",
            " 10  Upper 95% Confidence Interval for Trend       3141 non-null   object\n",
            "dtypes: int64(1), object(10)\n",
            "memory usage: 270.1+ KB\n"
          ],
          "name": "stdout"
        }
      ]
    },
    {
      "cell_type": "markdown",
      "metadata": {
        "id": "VPpyQHbG1grS",
        "colab_type": "text"
      },
      "source": [
        "Defining X and Y taking 'Age-Adjusted Death Rate' & 'Lower 95% Confidence Interval for Death Rate'"
      ]
    },
    {
      "cell_type": "code",
      "metadata": {
        "id": "nOIurgfU1EgU",
        "colab_type": "code",
        "colab": {}
      },
      "source": [
        "X = df.iloc[:2813, 3].astype(float).values\n",
        "Y = df.iloc[:2813, 4].astype(float).values"
      ],
      "execution_count": 18,
      "outputs": []
    },
    {
      "cell_type": "markdown",
      "metadata": {
        "id": "3Y73t14C3fl8",
        "colab_type": "text"
      },
      "source": [
        "Calculating slope and intercept"
      ]
    },
    {
      "cell_type": "code",
      "metadata": {
        "id": "81vU0imb1OaN",
        "colab_type": "code",
        "colab": {
          "base_uri": "https://localhost:8080/",
          "height": 50
        },
        "outputId": "7effd570-7444-4b7a-e524-f040aad3b804"
      },
      "source": [
        "mean_X = np.mean(X)\n",
        "mean_Y = np.mean(Y)\n",
        "num = 0\n",
        "denom = 0\n",
        "for i in range(len(X)):\n",
        " num += (X[i] - mean_X) * (Y[i] - mean_Y)\n",
        " denom += (X[i] - mean_X) ** 2\n",
        "m = num/denom\n",
        "c = mean_Y - mean_X * m\n",
        "print(\"Slope: \", m)\n",
        "print(\"Intercept: \", c)"
      ],
      "execution_count": 22,
      "outputs": [
        {
          "output_type": "stream",
          "text": [
            "Slope:  0.8130625894586994\n",
            "Intercept:  -0.44768268624177665\n"
          ],
          "name": "stdout"
        }
      ]
    },
    {
      "cell_type": "code",
      "metadata": {
        "id": "bsA2WvjR3mgu",
        "colab_type": "code",
        "colab": {
          "base_uri": "https://localhost:8080/",
          "height": 512
        },
        "outputId": "49dec57d-e2f7-4fb7-bc40-a94a491d8796"
      },
      "source": [
        "#Plotting the regression line\n",
        "max_x = np.max(X) + 10\n",
        "min_x = np.min(X) - 10\n",
        "x = np.linspace(min_x, max_x, 1000)\n",
        "y = m*x + c\n",
        "plt.figure(figsize = (10, 8))\n",
        "plt.plot(x, y, color = 'blue', label = 'Regression Line')\n",
        "\n",
        "#Plotting the data points\n",
        "plt.scatter(X, Y, color = 'red', marker = '.', label = 'Data Points')\n",
        "\n",
        "plt.title('Relation between Age-Adjusted Death Rate & Lower 95% Confidence Interval for Death Rate')\n",
        "plt.xlabel('Age-Adjusted Death Rate')\n",
        "plt.ylabel('Lower 95% Confidence Interval for Death Rate')\n",
        "plt.legend()\n",
        "plt.show()"
      ],
      "execution_count": 26,
      "outputs": [
        {
          "output_type": "display_data",
          "data": {
            "image/png": "[encoded data removed]",
            "text/plain": [
              "<Figure size 720x576 with 1 Axes>"
            ]
          },
          "metadata": {
            "tags": [],
            "needs_background": "light"
          }
        }
      ]
    },
    {
      "cell_type": "markdown",
      "metadata": {
        "id": "sRfCT-8r5qM9",
        "colab_type": "text"
      },
      "source": [
        "Calculating RMSE "
      ]
    },
    {
      "cell_type": "code",
      "metadata": {
        "id": "kNhZjjKX4j0j",
        "colab_type": "code",
        "colab": {
          "base_uri": "https://localhost:8080/",
          "height": 33
        },
        "outputId": "6be38852-7977-4430-f920-c3838b9a2d82"
      },
      "source": [
        "rmse = 0\n",
        "for i in range(len(X)):\n",
        "  y_pred = m * X[i] + c\n",
        "  rmse += (Y[i] - y_pred) ** 2\n",
        "rmse = np.sqrt(rmse/len(X))\n",
        "print(\"RMSE: \", rmse)"
      ],
      "execution_count": 27,
      "outputs": [
        {
          "output_type": "stream",
          "text": [
            "RMSE:  4.82222408046543\n"
          ],
          "name": "stdout"
        }
      ]
    },
    {
      "cell_type": "markdown",
      "metadata": {
        "id": "ye7xymcn5xu7",
        "colab_type": "text"
      },
      "source": [
        "Calculating R^2 Score"
      ]
    },
    {
      "cell_type": "code",
      "metadata": {
        "id": "zTo9y5ug5vu3",
        "colab_type": "code",
        "colab": {
          "base_uri": "https://localhost:8080/",
          "height": 33
        },
        "outputId": "53b47b41-0110-4127-8bbb-18b73aeab424"
      },
      "source": [
        "ss_tot = 0\n",
        "ss_res = 0\n",
        "for i in range(len(X)):\n",
        "  y_pred = m * X[i] + c\n",
        "  ss_res += (Y[i] - y_pred) ** 2\n",
        "  ss_tot += (Y[i] - mean_Y) ** 2\n",
        "r2 = 1 - (ss_res/ss_tot)\n",
        "print(\"R^2 score: \", r2)"
      ],
      "execution_count": 28,
      "outputs": [
        {
          "output_type": "stream",
          "text": [
            "R^2 score:  0.8484177930485508\n"
          ],
          "name": "stdout"
        }
      ]
    },
    {
      "cell_type": "markdown",
      "metadata": {
        "id": "rkROqqUK5-3h",
        "colab_type": "text"
      },
      "source": [
        "Predicting for unknown values"
      ]
    },
    {
      "cell_type": "code",
      "metadata": {
        "id": "o8lO-5BA54mW",
        "colab_type": "code",
        "colab": {
          "base_uri": "https://localhost:8080/",
          "height": 33
        },
        "outputId": "3db0ad6b-91b0-4f4b-c4ef-48bc9adc860c"
      },
      "source": [
        "def pred(x1):\n",
        "  y1 = m * x1 + c\n",
        "  print(y1)\n",
        "pred(40)"
      ],
      "execution_count": 29,
      "outputs": [
        {
          "output_type": "stream",
          "text": [
            "32.074820892106196\n"
          ],
          "name": "stdout"
        }
      ]
    },
    {
      "cell_type": "markdown",
      "metadata": {
        "id": "Vm7ZcOKj6NsL",
        "colab_type": "text"
      },
      "source": [
        "Training Using Scikit Learn"
      ]
    },
    {
      "cell_type": "code",
      "metadata": {
        "id": "N-0piMIJ6G-J",
        "colab_type": "code",
        "colab": {
          "base_uri": "https://localhost:8080/",
          "height": 50
        },
        "outputId": "63d031cc-d0e8-475f-a772-7ea941e6ab32"
      },
      "source": [
        "from sklearn.linear_model import LinearRegression\n",
        "from sklearn.metrics import mean_squared_error\n",
        "X = X.reshape((-1, 1))\n",
        "lreg = LinearRegression()\n",
        "lreg.fit(X,Y)\n",
        "Y_pred = lreg.predict(X)\n",
        "rmse = np.sqrt(mean_squared_error(Y, Y_pred))\n",
        "r2score = lreg.score(X, Y)\n",
        "print(\"RMSE: \", rmse)\n",
        "print(\"R2Score: \", r2score)"
      ],
      "execution_count": 31,
      "outputs": [
        {
          "output_type": "stream",
          "text": [
            "RMSE:  4.822224080465426\n",
            "R2Score:  0.8484177930485514\n"
          ],
          "name": "stdout"
        }
      ]
    },
    {
      "cell_type": "markdown",
      "metadata": {
        "id": "XFeieA2j7KLa",
        "colab_type": "text"
      },
      "source": [
        "Defining X and Y taking 'Lower 95% Confidence Interval for Death Rate' & 'Upper 95% Confidence Interval for Death Rate'"
      ]
    },
    {
      "cell_type": "code",
      "metadata": {
        "id": "dlPGX5Nm6VOT",
        "colab_type": "code",
        "colab": {}
      },
      "source": [
        "X = df.iloc[:2813, 4].astype(float).values\n",
        "Y = df.iloc[:2813, 5].astype(float).values"
      ],
      "execution_count": 32,
      "outputs": []
    },
    {
      "cell_type": "markdown",
      "metadata": {
        "id": "FTQ8Qbv17uoE",
        "colab_type": "text"
      },
      "source": [
        "Calculating slope and intercept"
      ]
    },
    {
      "cell_type": "code",
      "metadata": {
        "id": "gmeIg7C27di8",
        "colab_type": "code",
        "colab": {
          "base_uri": "https://localhost:8080/",
          "height": 50
        },
        "outputId": "f1206b35-3fae-4c40-edfb-860b54fbdfd4"
      },
      "source": [
        "mean_X = np.mean(X)\n",
        "mean_Y = np.mean(Y)\n",
        "num = 0\n",
        "denom = 0\n",
        "for i in range(len(X)):\n",
        " num += (X[i] - mean_X) * (Y[i] - mean_Y)\n",
        " denom += (X[i] - mean_X) ** 2\n",
        "m = num/denom\n",
        "c = mean_Y - mean_X * m\n",
        "print(\"Slope: \", m)\n",
        "print(\"Intercept: \", c)"
      ],
      "execution_count": 35,
      "outputs": [
        {
          "output_type": "stream",
          "text": [
            "Slope:  1.0328843838255326\n",
            "Intercept:  22.067040810098696\n"
          ],
          "name": "stdout"
        }
      ]
    },
    {
      "cell_type": "code",
      "metadata": {
        "id": "2EgWSrWY7g1X",
        "colab_type": "code",
        "colab": {
          "base_uri": "https://localhost:8080/",
          "height": 512
        },
        "outputId": "26f1dede-f515-4fe7-b2ee-2bad97159763"
      },
      "source": [
        "#Plotting the regression line\n",
        "max_x = np.max(X) + 10\n",
        "min_x = np.min(X) - 10\n",
        "x = np.linspace(min_x, max_x, 1000)\n",
        "y = m*x + c\n",
        "plt.figure(figsize = (10, 8))\n",
        "plt.plot(x, y, color = 'blue', label = 'Regression Line')\n",
        "\n",
        "#Plotting the data points\n",
        "plt.scatter(X, Y, color = 'red', marker = '.', label = 'Data Points')\n",
        "\n",
        "plt.title('Lower 95% Confidence Interval for Death Rate & Upper 95% Confidence Interval for Death Rate')\n",
        "plt.xlabel('Lower 95% Confidence Interval for Death Rate')\n",
        "plt.ylabel('Upper 95% Confidence Interval for Death Rate')\n",
        "plt.legend()\n",
        "plt.show()"
      ],
      "execution_count": 37,
      "outputs": [
        {
          "output_type": "display_data",
          "data": {
            "image/png": "[encoded data removed]",
            "text/plain": [
              "<Figure size 720x576 with 1 Axes>"
            ]
          },
          "metadata": {
            "tags": [],
            "needs_background": "light"
          }
        }
      ]
    },
    {
      "cell_type": "markdown",
      "metadata": {
        "id": "CfebFrEm8DAl",
        "colab_type": "text"
      },
      "source": [
        "Calculating RMSE"
      ]
    },
    {
      "cell_type": "code",
      "metadata": {
        "id": "AEZwgnc87yX6",
        "colab_type": "code",
        "colab": {
          "base_uri": "https://localhost:8080/",
          "height": 33
        },
        "outputId": "a3107a37-ebc5-4553-8561-d5c76cac3549"
      },
      "source": [
        "rmse = 0\n",
        "for i in range(len(X)):\n",
        "  y_pred = m * X[i] + c\n",
        "  rmse += (Y[i] - y_pred) ** 2\n",
        "rmse = np.sqrt(rmse/len(X))\n",
        "print(\"RMSE: \", rmse)"
      ],
      "execution_count": 38,
      "outputs": [
        {
          "output_type": "stream",
          "text": [
            "RMSE:  13.52154831348172\n"
          ],
          "name": "stdout"
        }
      ]
    },
    {
      "cell_type": "markdown",
      "metadata": {
        "id": "r13QGAc78W3Z",
        "colab_type": "text"
      },
      "source": [
        "Calculating R2 Score"
      ]
    },
    {
      "cell_type": "code",
      "metadata": {
        "id": "-8JQM3Hb8Fmo",
        "colab_type": "code",
        "colab": {
          "base_uri": "https://localhost:8080/",
          "height": 33
        },
        "outputId": "dc1da1ed-7451-407b-dafa-3a834ce7d37b"
      },
      "source": [
        "ss_tot = 0\n",
        "ss_res = 0\n",
        "for i in range(len(X)):\n",
        "  y_pred = m * X[i] + c\n",
        "  ss_res += (Y[i] - y_pred) ** 2\n",
        "  ss_tot += (Y[i] - mean_Y) ** 2\n",
        "r2 = 1 - (ss_res/ss_tot)\n",
        "print(\"R^2 score: \", r2)"
      ],
      "execution_count": 39,
      "outputs": [
        {
          "output_type": "stream",
          "text": [
            "R^2 score:  0.47233803220801096\n"
          ],
          "name": "stdout"
        }
      ]
    },
    {
      "cell_type": "markdown",
      "metadata": {
        "id": "uwCmWaDg8bD5",
        "colab_type": "text"
      },
      "source": [
        "Predicting on unknown data"
      ]
    },
    {
      "cell_type": "code",
      "metadata": {
        "id": "lwQeQXE_8KAi",
        "colab_type": "code",
        "colab": {
          "base_uri": "https://localhost:8080/",
          "height": 33
        },
        "outputId": "59138a7f-2ca3-465c-f5c2-5a35984487ac"
      },
      "source": [
        "def pred(x1):\n",
        "  y1 = m * x1 + c\n",
        "  print(y1)\n",
        "pred(25)"
      ],
      "execution_count": 41,
      "outputs": [
        {
          "output_type": "stream",
          "text": [
            "47.88915040573701\n"
          ],
          "name": "stdout"
        }
      ]
    },
    {
      "cell_type": "markdown",
      "metadata": {
        "id": "pjPEvMbP8imE",
        "colab_type": "text"
      },
      "source": [
        "Training using scikit learn"
      ]
    },
    {
      "cell_type": "code",
      "metadata": {
        "id": "8zD1nPnx8Ow8",
        "colab_type": "code",
        "colab": {
          "base_uri": "https://localhost:8080/",
          "height": 50
        },
        "outputId": "eb184860-e4ee-466f-e412-73d074d6420f"
      },
      "source": [
        "from sklearn.linear_model import LinearRegression\n",
        "from sklearn.metrics import mean_squared_error\n",
        "X = X.reshape((-1, 1))\n",
        "lreg = LinearRegression()\n",
        "lreg.fit(X,Y)\n",
        "Y_pred = lreg.predict(X)\n",
        "rmse = np.sqrt(mean_squared_error(Y, Y_pred))\n",
        "r2score = lreg.score(X, Y)\n",
        "print(\"RMSE: \", rmse)\n",
        "print(\"R2Score: \", r2score)"
      ],
      "execution_count": 42,
      "outputs": [
        {
          "output_type": "stream",
          "text": [
            "RMSE:  13.521548313481729\n",
            "R2Score:  0.4723380322080095\n"
          ],
          "name": "stdout"
        }
      ]
    }
  ]
}