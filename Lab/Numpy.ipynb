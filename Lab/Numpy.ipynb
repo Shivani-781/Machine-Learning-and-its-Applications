{
  "nbformat": 4,
  "nbformat_minor": 0,
  "metadata": {
    "colab": {
      "name": "Numpy.ipynb",
      "provenance": [],
      "collapsed_sections": [
        "wIIkEv8STDhH"
      ]
    },
    "kernelspec": {
      "name": "python3",
      "display_name": "Python 3"
    }
  },
  "cells": [
    {
      "cell_type": "markdown",
      "metadata": {
        "id": "wIIkEv8STDhH",
        "colab_type": "text"
      },
      "source": [
        "##Problems on Numpy"
      ]
    },
    {
      "cell_type": "code",
      "metadata": {
        "id": "FsEfPeBMSyKA",
        "colab_type": "code",
        "colab": {}
      },
      "source": [
        "import numpy as np"
      ],
      "execution_count": null,
      "outputs": []
    },
    {
      "cell_type": "markdown",
      "metadata": {
        "id": "fLNb3TkITTAs",
        "colab_type": "text"
      },
      "source": [
        "Write a NumPy program to compute the multiplication of two given matrixes. "
      ]
    },
    {
      "cell_type": "code",
      "metadata": {
        "id": "-phS-ofnTK3Y",
        "colab_type": "code",
        "colab": {
          "base_uri": "https://localhost:8080/",
          "height": 66
        },
        "outputId": "2f01a485-9de8-4ac1-e0c2-1445fef95b71"
      },
      "source": [
        "mat1 = ([1, 6, 5],[3 ,4, 8],[2, 12, 3]) \n",
        "mat2 = ([3, 4, 6],[5, 6, 7],[6, 56, 7]) \n",
        "print(np.dot(mat1, mat2))"
      ],
      "execution_count": null,
      "outputs": [
        {
          "output_type": "stream",
          "text": [
            "[[ 63 320  83]\n",
            " [ 77 484 102]\n",
            " [ 84 248 117]]\n"
          ],
          "name": "stdout"
        }
      ]
    },
    {
      "cell_type": "markdown",
      "metadata": {
        "id": "Q-yOB35fT82u",
        "colab_type": "text"
      },
      "source": [
        "Write a NumPy program to compute the outer product of two given vectors."
      ]
    },
    {
      "cell_type": "code",
      "metadata": {
        "id": "Auu1EcETT3Vh",
        "colab_type": "code",
        "colab": {
          "base_uri": "https://localhost:8080/",
          "height": 163
        },
        "outputId": "e38957c3-a50a-4763-83a2-eba8b4db14d7"
      },
      "source": [
        "mat1 = ([1, 6, 5],[3 ,4, 8],[2, 12, 3]) \n",
        "mat2 = ([3, 4, 6],[5, 6, 7],[6, 56, 7])\n",
        "print(np.outer(mat1, mat2))"
      ],
      "execution_count": null,
      "outputs": [
        {
          "output_type": "stream",
          "text": [
            "[[  3   4   6   5   6   7   6  56   7]\n",
            " [ 18  24  36  30  36  42  36 336  42]\n",
            " [ 15  20  30  25  30  35  30 280  35]\n",
            " [  9  12  18  15  18  21  18 168  21]\n",
            " [ 12  16  24  20  24  28  24 224  28]\n",
            " [ 24  32  48  40  48  56  48 448  56]\n",
            " [  6   8  12  10  12  14  12 112  14]\n",
            " [ 36  48  72  60  72  84  72 672  84]\n",
            " [  9  12  18  15  18  21  18 168  21]]\n"
          ],
          "name": "stdout"
        }
      ]
    },
    {
      "cell_type": "markdown",
      "metadata": {
        "id": "htQiElF7Urz9",
        "colab_type": "text"
      },
      "source": [
        "Write a NumPy program to compute the cross product of two given vectors."
      ]
    },
    {
      "cell_type": "code",
      "metadata": {
        "id": "dmbWUBcbUkyo",
        "colab_type": "code",
        "colab": {
          "base_uri": "https://localhost:8080/",
          "height": 66
        },
        "outputId": "21c3c98f-f04e-4d90-da45-4b81fb367330"
      },
      "source": [
        "mat1 = ([1, 6, 5],[3 ,4, 8],[2, 12, 3]) \n",
        "mat2 = ([3, 4, 6],[5, 6, 7],[6, 56, 7])\n",
        "print(np.cross(mat1, mat2))"
      ],
      "execution_count": null,
      "outputs": [
        {
          "output_type": "stream",
          "text": [
            "[[ 16   9 -14]\n",
            " [-20  19  -2]\n",
            " [-84   4  40]]\n"
          ],
          "name": "stdout"
        }
      ]
    },
    {
      "cell_type": "markdown",
      "metadata": {
        "id": "uszjy4VzV9Re",
        "colab_type": "text"
      },
      "source": [
        "Write a NumPy program to compute the determinant of a given square array."
      ]
    },
    {
      "cell_type": "code",
      "metadata": {
        "id": "0Tti6vCIV40L",
        "colab_type": "code",
        "colab": {
          "base_uri": "https://localhost:8080/",
          "height": 33
        },
        "outputId": "b3119bb7-2029-421b-fa34-cb9156d233e8"
      },
      "source": [
        "mat1 = ([1, 6, 5],[3 ,4, 8],[2, 12, 3]) \n",
        "print(np.linalg.det(mat1))"
      ],
      "execution_count": null,
      "outputs": [
        {
          "output_type": "stream",
          "text": [
            "98.00000000000004\n"
          ],
          "name": "stdout"
        }
      ]
    },
    {
      "cell_type": "markdown",
      "metadata": {
        "id": "Bf4IKPkrXwk4",
        "colab_type": "text"
      },
      "source": [
        "Write a NumPy program to evaluate Einstein's summation convention of two given multidimensional arrays."
      ]
    },
    {
      "cell_type": "code",
      "metadata": {
        "id": "Am0OHi_VWwS5",
        "colab_type": "code",
        "colab": {
          "base_uri": "https://localhost:8080/",
          "height": 66
        },
        "outputId": "15c96010-cfac-4f5b-d817-bf813e060e72"
      },
      "source": [
        "mat1 = ([1, 6, 5],[3 ,4, 8],[2, 12, 3]) \n",
        "mat2 = ([3, 4, 6],[5, 6, 7],[6, 56, 7])\n",
        "print(np.einsum(\"mk,kn\", mat1, mat2))"
      ],
      "execution_count": null,
      "outputs": [
        {
          "output_type": "stream",
          "text": [
            "[[ 63 320  83]\n",
            " [ 77 484 102]\n",
            " [ 84 248 117]]\n"
          ],
          "name": "stdout"
        }
      ]
    },
    {
      "cell_type": "markdown",
      "metadata": {
        "id": "VMYjPMYNYs0Z",
        "colab_type": "text"
      },
      "source": [
        "Write a NumPy program to compute the inner product of vectors for 1-D arrays (without complex conjugation) and in higher dimension."
      ]
    },
    {
      "cell_type": "code",
      "metadata": {
        "id": "72fsasdOYX-r",
        "colab_type": "code",
        "colab": {
          "base_uri": "https://localhost:8080/",
          "height": 33
        },
        "outputId": "66656cfa-fdeb-4273-8d35-2f305c710342"
      },
      "source": [
        "mat1 = ([1, 6, 5]) \n",
        "mat2 = ([3, 4, 6])\n",
        "print(np.inner(mat1, mat2))"
      ],
      "execution_count": null,
      "outputs": [
        {
          "output_type": "stream",
          "text": [
            "57\n"
          ],
          "name": "stdout"
        }
      ]
    },
    {
      "cell_type": "code",
      "metadata": {
        "id": "5jOjiN13Zxui",
        "colab_type": "code",
        "colab": {
          "base_uri": "https://localhost:8080/",
          "height": 66
        },
        "outputId": "302df83f-e1d7-4504-e2b9-98db2a05a740"
      },
      "source": [
        "mat1 = ([1, 6, 5],[3 ,4, 8],[2, 12, 3]) \n",
        "mat2 = ([3, 4, 6],[5, 6, 7],[6, 56, 7])\n",
        "print(np.inner(mat1, mat2))"
      ],
      "execution_count": null,
      "outputs": [
        {
          "output_type": "stream",
          "text": [
            "[[ 57  76 377]\n",
            " [ 73  95 298]\n",
            " [ 72 103 705]]\n"
          ],
          "name": "stdout"
        }
      ]
    },
    {
      "cell_type": "markdown",
      "metadata": {
        "id": "aJO5-9JmZ9Ju",
        "colab_type": "text"
      },
      "source": [
        "Write a NumPy program to compute the eigenvalues and right eigenvectors of a given square array."
      ]
    },
    {
      "cell_type": "code",
      "metadata": {
        "id": "S8fAz-kAZ2Dw",
        "colab_type": "code",
        "colab": {
          "base_uri": "https://localhost:8080/",
          "height": 82
        },
        "outputId": "bedf5f0b-c431-409e-99ac-61cccf8edede"
      },
      "source": [
        "mat1 = ([1, 6, 5],[3 ,4, 8],[2, 12, 3])\n",
        "w, v = np.linalg.eig(mat1)\n",
        "print('Eigen values:', w)\n",
        "print('Eigen vectors:', v)"
      ],
      "execution_count": null,
      "outputs": [
        {
          "output_type": "stream",
          "text": [
            "Eigen values: [15.2876222  -1.02332555 -6.26429664]\n",
            "Eigen vectors: [[ 0.4759332   0.94493063 -0.04665095]\n",
            " [ 0.58923536 -0.04899885 -0.60555074]\n",
            " [ 0.65290832 -0.32358184  0.79443816]]\n"
          ],
          "name": "stdout"
        }
      ]
    },
    {
      "cell_type": "markdown",
      "metadata": {
        "id": "pS2MVe6LbgfO",
        "colab_type": "text"
      },
      "source": [
        "Write a NumPy program to compute the Kronecker product of two given mulitdimension arrays."
      ]
    },
    {
      "cell_type": "code",
      "metadata": {
        "id": "WIfzwwjza-2N",
        "colab_type": "code",
        "colab": {
          "base_uri": "https://localhost:8080/",
          "height": 163
        },
        "outputId": "bb94a8e1-0be3-45be-b478-b2b520b900f6"
      },
      "source": [
        "mat1 = ([1, 6, 5],[3 ,4, 8],[2, 12, 3]) \n",
        "mat2 = ([3, 4, 6],[5, 6, 7],[6, 56, 7])\n",
        "print(np.kron(mat1, mat2))"
      ],
      "execution_count": null,
      "outputs": [
        {
          "output_type": "stream",
          "text": [
            "[[  3   4   6  18  24  36  15  20  30]\n",
            " [  5   6   7  30  36  42  25  30  35]\n",
            " [  6  56   7  36 336  42  30 280  35]\n",
            " [  9  12  18  12  16  24  24  32  48]\n",
            " [ 15  18  21  20  24  28  40  48  56]\n",
            " [ 18 168  21  24 224  28  48 448  56]\n",
            " [  6   8  12  36  48  72   9  12  18]\n",
            " [ 10  12  14  60  72  84  15  18  21]\n",
            " [ 12 112  14  72 672  84  18 168  21]]\n"
          ],
          "name": "stdout"
        }
      ]
    },
    {
      "cell_type": "markdown",
      "metadata": {
        "id": "bP6aeMiyb-bo",
        "colab_type": "text"
      },
      "source": [
        "Write a NumPy program to compute the condition number of a given matrix."
      ]
    },
    {
      "cell_type": "code",
      "metadata": {
        "id": "vnsU-JH1b82X",
        "colab_type": "code",
        "colab": {
          "base_uri": "https://localhost:8080/",
          "height": 33
        },
        "outputId": "054dec2b-7d0f-4e01-b157-98179a71d807"
      },
      "source": [
        "mat1 = ([1, 6, 5],[3 ,4, 8],[2, 12, 3]) \n",
        "print(np.linalg.cond(mat1))"
      ],
      "execution_count": null,
      "outputs": [
        {
          "output_type": "stream",
          "text": [
            "17.078964945002536\n"
          ],
          "name": "stdout"
        }
      ]
    },
    {
      "cell_type": "markdown",
      "metadata": {
        "id": "Ow-7H9R4cbUe",
        "colab_type": "text"
      },
      "source": [
        "Write a NumPy program to find a matrix or vector norm."
      ]
    },
    {
      "cell_type": "code",
      "metadata": {
        "id": "UAvZ-mOQcX_C",
        "colab_type": "code",
        "colab": {
          "base_uri": "https://localhost:8080/",
          "height": 33
        },
        "outputId": "a90a26c0-7d0e-407a-c08e-e285abc70a91"
      },
      "source": [
        "mat1 = ([1, 6, 5],[3 ,4, 8],[2, 12, 3]) \n",
        "print(np.linalg.norm(mat1))"
      ],
      "execution_count": null,
      "outputs": [
        {
          "output_type": "stream",
          "text": [
            "17.549928774784245\n"
          ],
          "name": "stdout"
        }
      ]
    },
    {
      "cell_type": "markdown",
      "metadata": {
        "id": "UI_vllXFc0dB",
        "colab_type": "text"
      },
      "source": [
        "Write a NumPy program to compute the determinant of an array."
      ]
    },
    {
      "cell_type": "code",
      "metadata": {
        "id": "WhceUVVJc6eN",
        "colab_type": "code",
        "colab": {
          "base_uri": "https://localhost:8080/",
          "height": 33
        },
        "outputId": "f704cf62-48f1-4ea6-8450-9b897537d75f"
      },
      "source": [
        "mat1 = ([1, 6, 5],[3 ,4, 8],[2, 12, 3]) \n",
        "print(np.linalg.det(mat1))"
      ],
      "execution_count": null,
      "outputs": [
        {
          "output_type": "stream",
          "text": [
            "98.00000000000004\n"
          ],
          "name": "stdout"
        }
      ]
    },
    {
      "cell_type": "markdown",
      "metadata": {
        "id": "5Q89WaXLdfBC",
        "colab_type": "text"
      },
      "source": [
        "Write a NumPy program to compute the inverse of a given matrix."
      ]
    },
    {
      "cell_type": "code",
      "metadata": {
        "id": "qFpx3ZU6deC3",
        "colab_type": "code",
        "colab": {
          "base_uri": "https://localhost:8080/",
          "height": 66
        },
        "outputId": "867dc36b-44be-4f9a-edfe-ff0b315d2ab2"
      },
      "source": [
        "mat1 = ([1, 6, 5],[3 ,4, 8],[2, 12, 3]) \n",
        "print(np.linalg.inv(mat1))"
      ],
      "execution_count": null,
      "outputs": [
        {
          "output_type": "stream",
          "text": [
            "[[-0.85714286  0.42857143  0.28571429]\n",
            " [ 0.07142857 -0.07142857  0.07142857]\n",
            " [ 0.28571429  0.         -0.14285714]]\n"
          ],
          "name": "stdout"
        }
      ]
    },
    {
      "cell_type": "markdown",
      "metadata": {
        "id": "zm6TjDFBeAvp",
        "colab_type": "text"
      },
      "source": [
        "Write a NumPy program to calculate the QR decomposition of a given matrix."
      ]
    },
    {
      "cell_type": "code",
      "metadata": {
        "id": "9jbwdSFad5sC",
        "colab_type": "code",
        "colab": {
          "base_uri": "https://localhost:8080/",
          "height": 98
        },
        "outputId": "0acdbd79-896f-4c44-e228-c2cab28ba037"
      },
      "source": [
        "mat1 = ([1, 6, 5],[3 ,4, 8],[2, 12, 3]) \n",
        "print(np.linalg.qr(mat1))"
      ],
      "execution_count": null,
      "outputs": [
        {
          "output_type": "stream",
          "text": [
            "(array([[-2.67261242e-01,  3.58568583e-01, -8.94427191e-01],\n",
            "       [-8.01783726e-01, -5.97614305e-01, -1.11022302e-16],\n",
            "       [-5.34522484e-01,  7.17137166e-01,  4.47213595e-01]]), array([[ -3.74165739, -11.22497216,  -9.35414347],\n",
            "       [  0.        ,   8.36660027,  -0.83666003],\n",
            "       [  0.        ,   0.        ,  -3.13049517]]))\n"
          ],
          "name": "stdout"
        }
      ]
    },
    {
      "cell_type": "markdown",
      "metadata": {
        "id": "ZnHzv0PTeYJ6",
        "colab_type": "text"
      },
      "source": [
        "Write a NumPy program to compute the condition number of a given matrix."
      ]
    },
    {
      "cell_type": "code",
      "metadata": {
        "id": "VHIEWs5SeNUx",
        "colab_type": "code",
        "colab": {
          "base_uri": "https://localhost:8080/",
          "height": 33
        },
        "outputId": "1cc12347-c50a-4687-e5b8-0f399beb5c2a"
      },
      "source": [
        "mat1 = ([1, 6, 5],[3 ,4, 8],[2, 12, 3]) \n",
        "print(np.linalg.cond(mat1))"
      ],
      "execution_count": null,
      "outputs": [
        {
          "output_type": "stream",
          "text": [
            "17.078964945002536\n"
          ],
          "name": "stdout"
        }
      ]
    },
    {
      "cell_type": "markdown",
      "metadata": {
        "id": "NEEORMcQeeGA",
        "colab_type": "text"
      },
      "source": [
        "Write a NumPy program to compute the sum of the diagonal element of a given array."
      ]
    },
    {
      "cell_type": "code",
      "metadata": {
        "id": "MDyz8rG9ec2V",
        "colab_type": "code",
        "colab": {
          "base_uri": "https://localhost:8080/",
          "height": 33
        },
        "outputId": "0baec8aa-0e90-4f3d-e574-ebed6dbfc9d2"
      },
      "source": [
        "mat1 = ([1, 6, 5],[3 ,4, 8],[2, 12, 3]) \n",
        "print(np.trace(mat1))"
      ],
      "execution_count": null,
      "outputs": [
        {
          "output_type": "stream",
          "text": [
            "8\n"
          ],
          "name": "stdout"
        }
      ]
    }
  ]
}
